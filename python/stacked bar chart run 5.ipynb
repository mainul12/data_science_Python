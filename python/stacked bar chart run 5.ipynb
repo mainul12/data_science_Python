{
 "cells": [
  {
   "cell_type": "code",
   "execution_count": 1,
   "id": "1b54b8bb",
   "metadata": {},
   "outputs": [],
   "source": [
    "import matplotlib.pyplot as plt\n",
    "%matplotlib inline"
   ]
  },
  {
   "cell_type": "code",
   "execution_count": 4,
   "id": "6068f9b4",
   "metadata": {},
   "outputs": [
    {
     "data": {
      "text/plain": [
       "<matplotlib.legend.Legend at 0x2287cf68f70>"
      ]
     },
     "execution_count": 4,
     "metadata": {},
     "output_type": "execute_result"
    },
    {
     "data": {
      "image/png": "[encoded data removed]",
      "text/plain": [
       "<Figure size 432x288 with 1 Axes>"
      ]
     },
     "metadata": {
      "needs_background": "light"
     },
     "output_type": "display_data"
    }
   ],
   "source": [
    "labels = [\"G1\", \"G2\", \"G3\", \"G4\", \"G5\"]\n",
    "men_data = [10, 5, 17, 13, 4]\n",
    "women_data = [20, 26, 50, 12, 5]\n",
    "\n",
    "fig, ax = plt.subplots()\n",
    "ax.bar(labels, men_data, label=\"Men\")\n",
    "ax.bar(labels, women_data, bottom=men_data, label=\"Women\")\n",
    "\n",
    "ax.set_ylabel(\"Scores\")\n",
    "ax.set_title(\"Scores by group and gender\")\n",
    "ax.legend()"
   ]
  }
 ],
 "metadata": {
  "kernelspec": {
   "display_name": "Python 3",
   "language": "python",
   "name": "python3"
  },
  "language_info": {
   "codemirror_mode": {
    "name": "ipython",
    "version": 3
   },
   "file_extension": ".py",
   "mimetype": "text/x-python",
   "name": "python",
   "nbconvert_exporter": "python",
   "pygments_lexer": "ipython3",
   "version": "3.9.5"
  }
 },
 "nbformat": 4,
 "nbformat_minor": 5
}
