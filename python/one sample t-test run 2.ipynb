{
 "cells": [
  {
   "cell_type": "code",
   "execution_count": 1,
   "id": "448d248c",
   "metadata": {},
   "outputs": [],
   "source": [
    "import numpy as np"
   ]
  },
  {
   "cell_type": "code",
   "execution_count": 2,
   "id": "c62152e9",
   "metadata": {},
   "outputs": [],
   "source": [
    "from scipy import stats"
   ]
  },
  {
   "cell_type": "code",
   "execution_count": 7,
   "id": "44893282",
   "metadata": {},
   "outputs": [],
   "source": [
    "import matplotlib.pyplot as plt\n",
    "%matplotlib inline"
   ]
  },
  {
   "cell_type": "code",
   "execution_count": 3,
   "id": "cc1403f4",
   "metadata": {},
   "outputs": [],
   "source": [
    "rng = np.random.default_rng()\n",
    "\n",
    "rvs = rng.normal(3, 2, size = 30)"
   ]
  },
  {
   "cell_type": "code",
   "execution_count": 4,
   "id": "780b31b6",
   "metadata": {},
   "outputs": [
    {
     "data": {
      "text/plain": [
       "3.2805699266052035"
      ]
     },
     "execution_count": 4,
     "metadata": {},
     "output_type": "execute_result"
    }
   ],
   "source": [
    "rvs.mean()"
   ]
  },
  {
   "cell_type": "code",
   "execution_count": 5,
   "id": "0b7ba373",
   "metadata": {},
   "outputs": [
    {
     "data": {
      "text/plain": [
       "Ttest_1sampResult(statistic=0.6229635676184997, pvalue=0.5381771148732103)"
      ]
     },
     "execution_count": 5,
     "metadata": {},
     "output_type": "execute_result"
    }
   ],
   "source": [
    "stats.ttest_1samp(rvs, 3)"
   ]
  },
  {
   "cell_type": "markdown",
   "id": "d7ea77c1",
   "metadata": {},
   "source": [
    "### Failed to reject the null hypothesis that the sample mean = 3"
   ]
  },
  {
   "cell_type": "code",
   "execution_count": 9,
   "id": "316d014e",
   "metadata": {},
   "outputs": [
    {
     "data": {
      "text/plain": [
       "Text(0.5, 0, 'test values for mean')"
      ]
     },
     "execution_count": 9,
     "metadata": {},
     "output_type": "execute_result"
    },
    {
     "data": {
      "image/png": "[encoded data removed]",
      "text/plain": [
       "<Figure size 432x288 with 1 Axes>"
      ]
     },
     "metadata": {
      "needs_background": "light"
     },
     "output_type": "display_data"
    }
   ],
   "source": [
    "## performing the t-test over a range of values\n",
    "\n",
    "a = [stats.ttest_1samp(rvs, i).pvalue for i in range(0, 8, 1)]\n",
    "\n",
    "index = np.arange(0,8,1)\n",
    "plt.bar(index , a)\n",
    "plt.ylabel(\"p-value\")\n",
    "plt.xlabel(\"test values for mean\")"
   ]
  },
  {
   "cell_type": "code",
   "execution_count": 12,
   "id": "12b4c9b9",
   "metadata": {},
   "outputs": [
    {
     "data": {
      "text/plain": [
       "Text(0.5, 0, 'test values for mean')"
      ]
     },
     "execution_count": 12,
     "metadata": {},
     "output_type": "execute_result"
    },
    {
     "data": {
      "image/png": "[encoded data removed]",
      "text/plain": [
       "<Figure size 432x288 with 1 Axes>"
      ]
     },
     "metadata": {
      "needs_background": "light"
     },
     "output_type": "display_data"
    }
   ],
   "source": [
    "a = [stats.ttest_1samp(rvs, i).pvalue for i in range(3, 18, 1)]\n",
    "\n",
    "index = np.arange(3,18,1)\n",
    "plt.bar(index , a)\n",
    "plt.ylabel(\"p-value\")\n",
    "plt.xlabel(\"test values for mean\")"
   ]
  }
 ],
 "metadata": {
  "kernelspec": {
   "display_name": "Python 3",
   "language": "python",
   "name": "python3"
  },
  "language_info": {
   "codemirror_mode": {
    "name": "ipython",
    "version": 3
   },
   "file_extension": ".py",
   "mimetype": "text/x-python",
   "name": "python",
   "nbconvert_exporter": "python",
   "pygments_lexer": "ipython3",
   "version": "3.9.5"
  }
 },
 "nbformat": 4,
 "nbformat_minor": 5
}
